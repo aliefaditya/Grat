{
  "nbformat": 4,
  "nbformat_minor": 0,
  "metadata": {
    "colab": {
      "provenance": []
    },
    "kernelspec": {
      "name": "python3",
      "display_name": "Python 3"
    },
    "language_info": {
      "name": "python"
    }
  },
  "cells": [
    {
      "cell_type": "markdown",
      "source": [
        "##### Algoritma Dasar\n",
        "\n",
        "1. Urutkan array berikut [12,9,30,”A”,”M”,99,82,”J”,”N”,”B”] dengan urutan abjad di depan dan angka di belakang,\n",
        "contoh [“A”, “B”,”J”, “M”, “N”, 9, 12, 30, 82, 99]"
      ],
      "metadata": {
        "id": "pugAgSupD1In"
      }
    },
    {
      "cell_type": "code",
      "source": [
        "# import libraries\n",
        "import numpy as np"
      ],
      "metadata": {
        "id": "CJ63IKkjD7Gt"
      },
      "execution_count": 1,
      "outputs": []
    },
    {
      "cell_type": "code",
      "source": [
        "unsortedArray = [12,9,30,\"A\",\"M\",99,82,\"J\",\"N\",\"B\"]\n",
        "unsortedArray"
      ],
      "metadata": {
        "colab": {
          "base_uri": "https://localhost:8080/"
        },
        "id": "_REwFZl-EAV4",
        "outputId": "ea77a55b-0c7e-4283-a4d1-598b03765f8a"
      },
      "execution_count": 56,
      "outputs": [
        {
          "output_type": "execute_result",
          "data": {
            "text/plain": [
              "[12, 9, 30, 'A', 'M', 99, 82, 'J', 'N', 'B']"
            ]
          },
          "metadata": {},
          "execution_count": 56
        }
      ]
    },
    {
      "cell_type": "code",
      "source": [
        "numberArray = [val for val in unsortedArray if isinstance(val, (int, float))]\n",
        "stringArray = [val for val in unsortedArray if isinstance(val, (str))]\n",
        "\n",
        "numArr, strArr = np.sort(numberArray), np.sort(stringArray)"
      ],
      "metadata": {
        "id": "ySW9DJk9Enm4"
      },
      "execution_count": 57,
      "outputs": []
    },
    {
      "cell_type": "code",
      "source": [
        "strList = strArr.tolist()\n",
        "[strList.append(i) for i in numArr]\n",
        "strList"
      ],
      "metadata": {
        "colab": {
          "base_uri": "https://localhost:8080/"
        },
        "id": "NjDj_9I3OQyT",
        "outputId": "3df6909e-dfec-45fc-a5fa-e8d0a74b0fdf"
      },
      "execution_count": 58,
      "outputs": [
        {
          "output_type": "execute_result",
          "data": {
            "text/plain": [
              "['A', 'B', 'J', 'M', 'N', 9, 12, 30, 82, 99]"
            ]
          },
          "metadata": {},
          "execution_count": 58
        }
      ]
    },
    {
      "cell_type": "markdown",
      "source": [
        "2. Fungsi ini akan mengembalikan angka bagaimana banyak pola ada di dalam teks. Contoh input “palindrom”, “ind”. Maka output bernilai 1.\n",
        "\n",
        "Rules: \n",
        "- Panjang antara 0-100 karakter \n",
        "- Parameter input selalu tidak nol"
      ],
      "metadata": {
        "id": "bwVIsLHMHk9A"
      }
    },
    {
      "cell_type": "code",
      "source": [
        "def pattern_count(text, pattern):\n",
        "  # constraints\n",
        "  if ((len(text) > 0 and len(text) <= 100) and (len(pattern) > 0 and len(pattern) <= 100)):\n",
        "    count = 0\n",
        "    for i in range(len(text)):\n",
        "        if text[i:i+len(pattern)] == pattern:\n",
        "            count += 1\n",
        "    return(count)\n",
        "  else:\n",
        "    valErr = 0\n",
        "    return valErr"
      ],
      "metadata": {
        "id": "itE68QrJH-zo"
      },
      "execution_count": 30,
      "outputs": []
    },
    {
      "cell_type": "code",
      "source": [
        "# test for taking input \n",
        "text = input(\"Text    : \")\n",
        "ptrn = input(\"Pattern : \")\n",
        "print(pattern_count(text, ptrn))"
      ],
      "metadata": {
        "colab": {
          "base_uri": "https://localhost:8080/"
        },
        "id": "GkHaw6QEIRLe",
        "outputId": "6812cb07-28af-4bea-e3c9-905987b113d5"
      },
      "execution_count": 32,
      "outputs": [
        {
          "output_type": "stream",
          "name": "stdout",
          "text": [
            "Text    : abakadabra\n",
            "Pattern : ab\n",
            "2\n"
          ]
        }
      ]
    },
    {
      "cell_type": "markdown",
      "source": [
        "3. Buat fungsi yang menghitung banyak nya huruf yang user masukan dalam 1x inputan dan urutkan hasil akhir sesuai abjad, Perhatikan huruf kapital, jika terdapat abjad yang sama namun dalam kapital maka pisah huruf tersebut.\n",
        "\n",
        "Contoh: \n",
        "Input : “Hello World”\n",
        "Output : [“d”:1, “e”:1, “H”:1, “l”: 3, “o”:2, “r”:1, “W”:1]"
      ],
      "metadata": {
        "id": "UVARfKIeLj8Z"
      }
    },
    {
      "cell_type": "code",
      "source": [
        "def count_char(text):\n",
        "  all_freq = {} \n",
        "  for i in text:\n",
        "      if i not in all_freq: all_freq[i] = 1\n",
        "      else: all_freq[i] += 1\n",
        "  return str(all_freq)"
      ],
      "metadata": {
        "id": "63SZubYzIdl8"
      },
      "execution_count": 36,
      "outputs": []
    },
    {
      "cell_type": "code",
      "source": [
        "text = input(\"Text    : \")\n",
        "print(count_char(text))"
      ],
      "metadata": {
        "colab": {
          "base_uri": "https://localhost:8080/"
        },
        "id": "Ob4OVXvJL6zO",
        "outputId": "42490103-0130-4d8f-aac9-4f5d9be5928c"
      },
      "execution_count": 37,
      "outputs": [
        {
          "output_type": "stream",
          "name": "stdout",
          "text": [
            "Text    : alief\n",
            "{'a': 1, 'l': 1, 'i': 1, 'e': 1, 'f': 1}\n"
          ]
        }
      ]
    }
  ]
}